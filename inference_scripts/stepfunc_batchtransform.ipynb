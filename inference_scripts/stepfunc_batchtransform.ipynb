{
 "cells": [
  {
   "cell_type": "code",
   "execution_count": 3,
   "id": "a0208796-e8d8-4e48-bdd6-6333036f9a38",
   "metadata": {},
   "outputs": [],
   "source": [
    "import boto3\n",
    "import json"
   ]
  },
  {
   "cell_type": "code",
   "execution_count": 6,
   "id": "3409d851-f522-446b-a3b6-adf13cd6648d",
   "metadata": {},
   "outputs": [],
   "source": [
    "# Initialize Step Functions client\n",
    "sfn_client = boto3.client(\"stepfunctions\")\n",
    "\n",
    "# Define the state machine JSON\n",
    "state_machine_definition = json.dumps(\n",
    "    {\n",
    "        \"Comment\": \"State machine to trigger SageMaker Batch Transform\",\n",
    "        \"StartAt\": \"StartBatchTransform\",\n",
    "        \"States\": {\n",
    "            \"StartBatchTransform\": {\n",
    "                \"Type\": \"Task\",\n",
    "                \"Resource\": \"arn:aws:states:::sagemaker:createTransformJob.sync\",\n",
    "                \"Parameters\": {\n",
    "                    \"TransformJobName\": \"BatchTransformJob-123\",\n",
    "                    \"ModelName\": \"pipelines-ipiycr4j52a4-StockMarketPredictio-DX7H746r4M\",\n",
    "                    \"TransformInput\": {\n",
    "                        \"DataSource\": {\n",
    "                            \"S3DataSource\": {\n",
    "                                \"S3DataType\": \"S3Object\",\n",
    "                                \"S3Uri\": \"s3://aws-portfolio-projects/snp500-data/inference_data/processed/sp500_processed.csv\",\n",
    "                            }\n",
    "                        },\n",
    "                        \"ContentType\": \"text/csv\",\n",
    "                    },\n",
    "                    \"TransformOutput\": {\n",
    "                        \"S3OutputPath\": \"s3://aws-portfolio-projects/snp500-data/batch-predictions/\"\n",
    "                    },\n",
    "                    \"TransformResources\": {\n",
    "                        \"InstanceType\": \"ml.m5.large\",\n",
    "                        \"InstanceCount\": 1,\n",
    "                    },\n",
    "                },\n",
    "                \"End\": True,\n",
    "            }\n",
    "        },\n",
    "    }\n",
    ")"
   ]
  },
  {
   "cell_type": "code",
   "execution_count": 5,
   "id": "208c5402-32d6-4d4f-9aab-bbc332251b78",
   "metadata": {},
   "outputs": [],
   "source": [
    "# Create the state machine\n",
    "response = sfn_client.create_state_machine(\n",
    "    name=\"BatchTransformStateMachine\",\n",
    "    definition=state_machine_definition,\n",
    "    roleArn=\"arn:aws:iam::930627915954:role/StepFunctionFullAccessRole\",\n",
    ")\n",
    "\n",
    "print(\"Step Function Created:\", response[\"stateMachineArn\"])"
   ]
  },
  {
   "cell_type": "code",
   "execution_count": 10,
   "id": "c56f1413-2be9-4b3e-a6bb-8eba8ed615ba",
   "metadata": {},
   "outputs": [
    {
     "name": "stdout",
     "output_type": "stream",
     "text": [
      "State Machine Update Status: {'updateDate': datetime.datetime(2025, 2, 23, 22, 31, 12, 880000, tzinfo=tzlocal()), 'revisionId': '02621c73-0b2c-4d9d-897d-db57f9d3d14f', 'ResponseMetadata': {'RequestId': '9f59b1e3-37d4-4b3a-a84e-ff09ed85497b', 'HTTPStatusCode': 200, 'HTTPHeaders': {'x-amzn-requestid': '9f59b1e3-37d4-4b3a-a84e-ff09ed85497b', 'date': 'Mon, 24 Feb 2025 04:33:01 GMT', 'content-type': 'application/x-amz-json-1.0', 'content-length': '82', 'connection': 'keep-alive'}, 'RetryAttempts': 0}}\n"
     ]
    }
   ],
   "source": [
    "# Update the state machine\n",
    "response = sfn_client.update_state_machine(\n",
    "    stateMachineArn=\"arn:aws:states:us-east-2:930627915954:stateMachine:BatchTransformStateMachine\",  # Your state machine ARN\n",
    "    definition=state_machine_definition,\n",
    ")\n",
    "print(f\"State Machine Update Status: {response}\")"
   ]
  },
  {
   "cell_type": "markdown",
   "id": "14997d4d-2674-4c70-bbf4-ede6bd0f9227",
   "metadata": {},
   "source": []
  }
 ],
 "metadata": {
  "kernelspec": {
   "display_name": "sagemaker-dev",
   "language": "python",
   "name": "sagemaker-dev"
  },
  "language_info": {
   "codemirror_mode": {
    "name": "ipython",
    "version": 3
   },
   "file_extension": ".py",
   "mimetype": "text/x-python",
   "name": "python",
   "nbconvert_exporter": "python",
   "pygments_lexer": "ipython3",
   "version": "3.10.14"
  }
 },
 "nbformat": 4,
 "nbformat_minor": 5
}
