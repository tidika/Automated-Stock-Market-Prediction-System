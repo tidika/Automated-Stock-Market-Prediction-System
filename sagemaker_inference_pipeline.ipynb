{
 "cells": [
  {
   "cell_type": "code",
   "execution_count": 9,
   "id": "a94aa0d6-462c-448d-b794-7673fc0653b6",
   "metadata": {},
   "outputs": [],
   "source": [
    "import sagemaker\n",
    "from sagemaker.workflow.pipeline import Pipeline\n",
    "from sagemaker.workflow.steps import ProcessingStep, CacheConfig\n",
    "from sagemaker.workflow.parameters import ParameterString\n",
    "from sagemaker.sklearn.processing import SKLearnProcessor\n",
    "from sagemaker.lambda_helper import Lambda\n",
    "from sagemaker.workflow.lambda_step import (\n",
    "    LambdaStep,\n",
    "    LambdaOutput,\n",
    "    LambdaOutputTypeEnum,\n",
    ")\n",
    "import boto3"
   ]
  },
  {
   "cell_type": "code",
   "execution_count": 2,
   "id": "6179396c-aff3-42c7-950a-f22e4282ac0f",
   "metadata": {},
   "outputs": [
    {
     "data": {
      "text/html": [
       "<pre style=\"white-space:pre;overflow-x:auto;line-height:normal;font-family:Menlo,'DejaVu Sans Mono',consolas,'Courier New',monospace\"><span style=\"color: #7fbfbf; text-decoration-color: #7fbfbf\">[01/31/25 14:04:45] </span><span style=\"color: #0069ff; text-decoration-color: #0069ff; font-weight: bold\">INFO    </span> Found credentials in shared credentials file: ~<span style=\"color: #e100e1; text-decoration-color: #e100e1\">/.aws/credentials</span>   <a href=\"file://C:\\Users\\tochi\\anaconda3\\envs\\sagemaker-dev\\lib\\site-packages\\botocore\\credentials.py\" target=\"_blank\"><span style=\"color: #7f7f7f; text-decoration-color: #7f7f7f\">credentials.py</span></a><span style=\"color: #7f7f7f; text-decoration-color: #7f7f7f\">:</span><a href=\"file://C:\\Users\\tochi\\anaconda3\\envs\\sagemaker-dev\\lib\\site-packages\\botocore\\credentials.py#1278\" target=\"_blank\"><span style=\"color: #7f7f7f; text-decoration-color: #7f7f7f\">1278</span></a>\n",
       "</pre>\n"
      ],
      "text/plain": [
       "\u001b[2;36m[01/31/25 14:04:45]\u001b[0m\u001b[2;36m \u001b[0m\u001b[1;38;2;0;105;255mINFO    \u001b[0m Found credentials in shared credentials file: ~\u001b[38;2;225;0;225m/.aws/\u001b[0m\u001b[38;2;225;0;225mcredentials\u001b[0m   \u001b]8;id=113709;file://C:\\Users\\tochi\\anaconda3\\envs\\sagemaker-dev\\lib\\site-packages\\botocore\\credentials.py\u001b\\\u001b[2mcredentials.py\u001b[0m\u001b]8;;\u001b\\\u001b[2m:\u001b[0m\u001b]8;id=254228;file://C:\\Users\\tochi\\anaconda3\\envs\\sagemaker-dev\\lib\\site-packages\\botocore\\credentials.py#1278\u001b\\\u001b[2m1278\u001b[0m\u001b]8;;\u001b\\\n"
      ]
     },
     "metadata": {},
     "output_type": "display_data"
    },
    {
     "data": {
      "text/html": [
       "<pre style=\"white-space:pre;overflow-x:auto;line-height:normal;font-family:Menlo,'DejaVu Sans Mono',consolas,'Courier New',monospace\"><span style=\"color: #7fbfbf; text-decoration-color: #7fbfbf\">                    </span><span style=\"color: #0069ff; text-decoration-color: #0069ff; font-weight: bold\">INFO    </span> Found credentials in shared credentials file: ~<span style=\"color: #e100e1; text-decoration-color: #e100e1\">/.aws/credentials</span>   <a href=\"file://C:\\Users\\tochi\\anaconda3\\envs\\sagemaker-dev\\lib\\site-packages\\botocore\\credentials.py\" target=\"_blank\"><span style=\"color: #7f7f7f; text-decoration-color: #7f7f7f\">credentials.py</span></a><span style=\"color: #7f7f7f; text-decoration-color: #7f7f7f\">:</span><a href=\"file://C:\\Users\\tochi\\anaconda3\\envs\\sagemaker-dev\\lib\\site-packages\\botocore\\credentials.py#1278\" target=\"_blank\"><span style=\"color: #7f7f7f; text-decoration-color: #7f7f7f\">1278</span></a>\n",
       "</pre>\n"
      ],
      "text/plain": [
       "\u001b[2;36m                   \u001b[0m\u001b[2;36m \u001b[0m\u001b[1;38;2;0;105;255mINFO    \u001b[0m Found credentials in shared credentials file: ~\u001b[38;2;225;0;225m/.aws/\u001b[0m\u001b[38;2;225;0;225mcredentials\u001b[0m   \u001b]8;id=550293;file://C:\\Users\\tochi\\anaconda3\\envs\\sagemaker-dev\\lib\\site-packages\\botocore\\credentials.py\u001b\\\u001b[2mcredentials.py\u001b[0m\u001b]8;;\u001b\\\u001b[2m:\u001b[0m\u001b]8;id=843798;file://C:\\Users\\tochi\\anaconda3\\envs\\sagemaker-dev\\lib\\site-packages\\botocore\\credentials.py#1278\u001b\\\u001b[2m1278\u001b[0m\u001b]8;;\u001b\\\n"
      ]
     },
     "metadata": {},
     "output_type": "display_data"
    }
   ],
   "source": [
    "# Set up session and role\n",
    "region = \"us-east-2\"  \n",
    "sagemaker_session = sagemaker.Session()\n",
    "\n",
    "account = boto3.client('sts').get_caller_identity().get('Account')\n",
    "role = f\"arn:aws:iam::{account}:role/service-role/AmazonSageMakerServiceCatalogProductsUseRole\"  "
   ]
  },
  {
   "cell_type": "code",
   "execution_count": 3,
   "id": "21325f9b-44ff-4e03-84fb-40ad8172e119",
   "metadata": {},
   "outputs": [],
   "source": [
    "# Define pipeline parameters\n",
    "years_to_filter = ParameterString(name=\"Historical_Years\", default_value=\"10\")\n",
    "cache_config = CacheConfig(enable_caching=True, expire_after=\"1d\") #Cache configuration"
   ]
  },
  {
   "cell_type": "code",
   "execution_count": 4,
   "id": "ee8a6895-c631-4f69-8a36-5007a29d3674",
   "metadata": {},
   "outputs": [],
   "source": [
    "# S3 bucket for storing intermediate data\n",
    "inference_bucket = \"s3://aws-portfolio-projects/snp500-data/inference_data/\""
   ]
  },
  {
   "cell_type": "markdown",
   "id": "8d2fcbe4-4726-4c58-a761-d83bf30ce540",
   "metadata": {},
   "source": [
    "## Data Ingestion Step "
   ]
  },
  {
   "cell_type": "code",
   "execution_count": 10,
   "id": "c429b270-5d40-45b7-88c5-02e2d0c41f86",
   "metadata": {},
   "outputs": [
    {
     "data": {
      "text/html": [
       "<pre style=\"white-space:pre;overflow-x:auto;line-height:normal;font-family:Menlo,'DejaVu Sans Mono',consolas,'Courier New',monospace\"><span style=\"color: #7fbfbf; text-decoration-color: #7fbfbf\">[01/31/25 14:12:56] </span><span style=\"color: #0069ff; text-decoration-color: #0069ff; font-weight: bold\">INFO    </span> Defaulting to only available Python version: py3                     <a href=\"file://C:\\Users\\tochi\\anaconda3\\envs\\sagemaker-dev\\lib\\site-packages\\sagemaker\\image_uris.py\" target=\"_blank\"><span style=\"color: #7f7f7f; text-decoration-color: #7f7f7f\">image_uris.py</span></a><span style=\"color: #7f7f7f; text-decoration-color: #7f7f7f\">:</span><a href=\"file://C:\\Users\\tochi\\anaconda3\\envs\\sagemaker-dev\\lib\\site-packages\\sagemaker\\image_uris.py#608\" target=\"_blank\"><span style=\"color: #7f7f7f; text-decoration-color: #7f7f7f\">608</span></a>\n",
       "</pre>\n"
      ],
      "text/plain": [
       "\u001b[2;36m[01/31/25 14:12:56]\u001b[0m\u001b[2;36m \u001b[0m\u001b[1;38;2;0;105;255mINFO    \u001b[0m Defaulting to only available Python version: py3                     \u001b]8;id=224494;file://C:\\Users\\tochi\\anaconda3\\envs\\sagemaker-dev\\lib\\site-packages\\sagemaker\\image_uris.py\u001b\\\u001b[2mimage_uris.py\u001b[0m\u001b]8;;\u001b\\\u001b[2m:\u001b[0m\u001b]8;id=357391;file://C:\\Users\\tochi\\anaconda3\\envs\\sagemaker-dev\\lib\\site-packages\\sagemaker\\image_uris.py#608\u001b\\\u001b[2m608\u001b[0m\u001b]8;;\u001b\\\n"
      ]
     },
     "metadata": {},
     "output_type": "display_data"
    }
   ],
   "source": [
    "# Use an SKLearnProcessor for data ingestion\n",
    "\n",
    "data_ingestion_processor = SKLearnProcessor(\n",
    "    framework_version=\"1.0-1\",\n",
    "    command=[\"python3\"],\n",
    "    role=role,\n",
    "    instance_count=1,\n",
    "    instance_type=\"ml.m5.large\"\n",
    ")\n",
    "\n",
    "# Data ingestion step\n",
    "ingestion_step = ProcessingStep(\n",
    "    name=\"DataIngestion\",\n",
    "    processor=data_ingestion_processor,\n",
    "    inputs=[],\n",
    "    outputs=[\n",
    "        sagemaker.processing.ProcessingOutput(\n",
    "                                              output_name=\"ingested\",\n",
    "                                              source=\"/opt/ml/processing/output\",\n",
    "                                              destination= inference_bucket),\n",
    "    ],\n",
    "    code=\"inference_scripts/data_ingestion.py\", \n",
    "    cache_config=cache_config,\n",
    "    job_arguments=[\n",
    "        \"--years-to-filter\", years_to_filter\n",
    "    ]\n",
    ")"
   ]
  },
  {
   "cell_type": "markdown",
   "id": "cbb68d9b-dc02-4914-9e4a-deb62bb8dbc8",
   "metadata": {},
   "source": [
    "## Data Processing Step"
   ]
  },
  {
   "cell_type": "code",
   "execution_count": 11,
   "id": "d6d5fdb3-b528-4291-a5f1-147ee2ce0b31",
   "metadata": {},
   "outputs": [
    {
     "data": {
      "text/html": [
       "<pre style=\"white-space:pre;overflow-x:auto;line-height:normal;font-family:Menlo,'DejaVu Sans Mono',consolas,'Courier New',monospace\"><span style=\"color: #7fbfbf; text-decoration-color: #7fbfbf\">[01/31/25 14:12:57] </span><span style=\"color: #0069ff; text-decoration-color: #0069ff; font-weight: bold\">INFO    </span> Defaulting to only available Python version: py3                     <a href=\"file://C:\\Users\\tochi\\anaconda3\\envs\\sagemaker-dev\\lib\\site-packages\\sagemaker\\image_uris.py\" target=\"_blank\"><span style=\"color: #7f7f7f; text-decoration-color: #7f7f7f\">image_uris.py</span></a><span style=\"color: #7f7f7f; text-decoration-color: #7f7f7f\">:</span><a href=\"file://C:\\Users\\tochi\\anaconda3\\envs\\sagemaker-dev\\lib\\site-packages\\sagemaker\\image_uris.py#608\" target=\"_blank\"><span style=\"color: #7f7f7f; text-decoration-color: #7f7f7f\">608</span></a>\n",
       "</pre>\n"
      ],
      "text/plain": [
       "\u001b[2;36m[01/31/25 14:12:57]\u001b[0m\u001b[2;36m \u001b[0m\u001b[1;38;2;0;105;255mINFO    \u001b[0m Defaulting to only available Python version: py3                     \u001b]8;id=500899;file://C:\\Users\\tochi\\anaconda3\\envs\\sagemaker-dev\\lib\\site-packages\\sagemaker\\image_uris.py\u001b\\\u001b[2mimage_uris.py\u001b[0m\u001b]8;;\u001b\\\u001b[2m:\u001b[0m\u001b]8;id=780361;file://C:\\Users\\tochi\\anaconda3\\envs\\sagemaker-dev\\lib\\site-packages\\sagemaker\\image_uris.py#608\u001b\\\u001b[2m608\u001b[0m\u001b]8;;\u001b\\\n"
      ]
     },
     "metadata": {},
     "output_type": "display_data"
    }
   ],
   "source": [
    "data_preprocessor = SKLearnProcessor(\n",
    "    framework_version=\"1.0-1\", \n",
    "    role=role,\n",
    "    instance_type=\"ml.m5.large\",\n",
    "    instance_count=1\n",
    ")\n",
    "\n",
    "# Data processing step\n",
    "processing_step = ProcessingStep(\n",
    "    name=\"DataPreprocessing\",\n",
    "    processor=data_preprocessor,\n",
    "    inputs=[\n",
    "        sagemaker.processing.ProcessingInput(\n",
    "            source=ingestion_step.properties.ProcessingOutputConfig.Outputs[\"ingested\"].S3Output.S3Uri,\n",
    "            destination=\"/opt/ml/processing/input\"\n",
    "        )\n",
    "    ],\n",
    "    outputs=[\n",
    "        sagemaker.processing.ProcessingOutput(output_name=\"processed\", \n",
    "                                              source=\"/opt/ml/processing/output/train\", \n",
    "                                              destination=inference_bucket)\n",
    "\n",
    "    ],\n",
    "    code=\"inference_scripts/data_processing.py\", \n",
    "    cache_config=cache_config,\n",
    "    job_arguments=[\n",
    "        \"--input_dir\", \"/opt/ml/processing/input/\",\n",
    "        \"--output_dir\", \"/opt/ml/processing/output/train\"\n",
    "    ]\n",
    "   \n",
    ")"
   ]
  },
  {
   "cell_type": "markdown",
   "id": "f666d6d6-04ee-4a5f-87a1-bd40cacd698e",
   "metadata": {},
   "source": [
    "## Inference Step"
   ]
  },
  {
   "cell_type": "code",
   "execution_count": 12,
   "id": "0922d06e-9997-4ad3-b82e-6c824dbb9eb1",
   "metadata": {},
   "outputs": [],
   "source": [
    "# Create a Lambda function for prediction\n",
    "lambda_role = \"arn:aws:iam::930627915954:role/sagemaker-pipeline-lambda-role\"\n",
    "lambda_client = boto3.client(\"lambda\", region_name=region)\n",
    "lambda_function_name = \"sagemaker-stock-prediction-lambda\" \n",
    "# Lambda function for invoking the SageMaker endpoint\n",
    "lambda_step = LambdaStep(\n",
    "    name=\"InvokeSageMakerEndpoint\",\n",
    "    lambda_func=Lambda(\n",
    "        function_name=lambda_function_name,\n",
    "        execution_role_arn =lambda_role,\n",
    "        script=\"inference_scripts/lambda_prediction.py\",\n",
    "        handler=\"lambda_prediction.lambda_handler\" \n",
    "    ),\n",
    "    inputs={\n",
    "        \"processed_data_s3_uri\": \"s3://aws-portfolio-projects/snp500-data/inference_data/sp500_processed.csv\",\n",
    "        \"endpoint_name\": \"stock-market-prediction-endpoint\",  \n",
    "        \"dynamodb_table_name\": \"stock-prediction-data\"\n",
    "    },\n",
    ")"
   ]
  },
  {
   "cell_type": "code",
   "execution_count": 13,
   "id": "7a163415-7281-497d-aecf-d4efab204b5c",
   "metadata": {},
   "outputs": [
    {
     "data": {
      "text/html": [
       "<pre style=\"white-space:pre;overflow-x:auto;line-height:normal;font-family:Menlo,'DejaVu Sans Mono',consolas,'Courier New',monospace\"><span style=\"color: #7fbfbf; text-decoration-color: #7fbfbf\">[01/31/25 14:13:02] </span><span style=\"color: #d7af00; text-decoration-color: #d7af00; font-weight: bold\">WARNING </span> Popping out <span style=\"color: #008700; text-decoration-color: #008700\">'ProcessingJobName'</span> from the pipeline definition by       <a href=\"file://C:\\Users\\tochi\\anaconda3\\envs\\sagemaker-dev\\lib\\site-packages\\sagemaker\\workflow\\utilities.py\" target=\"_blank\"><span style=\"color: #7f7f7f; text-decoration-color: #7f7f7f\">utilities.py</span></a><span style=\"color: #7f7f7f; text-decoration-color: #7f7f7f\">:</span><a href=\"file://C:\\Users\\tochi\\anaconda3\\envs\\sagemaker-dev\\lib\\site-packages\\sagemaker\\workflow\\utilities.py#465\" target=\"_blank\"><span style=\"color: #7f7f7f; text-decoration-color: #7f7f7f\">465</span></a>\n",
       "<span style=\"color: #7fbfbf; text-decoration-color: #7fbfbf\">                    </span>         default since it will be overridden at pipeline execution time.       <span style=\"color: #7f7f7f; text-decoration-color: #7f7f7f\">                </span>\n",
       "<span style=\"color: #7fbfbf; text-decoration-color: #7fbfbf\">                    </span>         Please utilize the PipelineDefinitionConfig to persist this field in  <span style=\"color: #7f7f7f; text-decoration-color: #7f7f7f\">                </span>\n",
       "<span style=\"color: #7fbfbf; text-decoration-color: #7fbfbf\">                    </span>         the pipeline definition if desired.                                   <span style=\"color: #7f7f7f; text-decoration-color: #7f7f7f\">                </span>\n",
       "</pre>\n"
      ],
      "text/plain": [
       "\u001b[2;36m[01/31/25 14:13:02]\u001b[0m\u001b[2;36m \u001b[0m\u001b[1;38;2;215;175;0mWARNING \u001b[0m Popping out \u001b[38;2;0;135;0m'ProcessingJobName'\u001b[0m from the pipeline definition by       \u001b]8;id=898467;file://C:\\Users\\tochi\\anaconda3\\envs\\sagemaker-dev\\lib\\site-packages\\sagemaker\\workflow\\utilities.py\u001b\\\u001b[2mutilities.py\u001b[0m\u001b]8;;\u001b\\\u001b[2m:\u001b[0m\u001b]8;id=17038;file://C:\\Users\\tochi\\anaconda3\\envs\\sagemaker-dev\\lib\\site-packages\\sagemaker\\workflow\\utilities.py#465\u001b\\\u001b[2m465\u001b[0m\u001b]8;;\u001b\\\n",
       "\u001b[2;36m                    \u001b[0m         default since it will be overridden at pipeline execution time.       \u001b[2m                \u001b[0m\n",
       "\u001b[2;36m                    \u001b[0m         Please utilize the PipelineDefinitionConfig to persist this field in  \u001b[2m                \u001b[0m\n",
       "\u001b[2;36m                    \u001b[0m         the pipeline definition if desired.                                   \u001b[2m                \u001b[0m\n"
      ]
     },
     "metadata": {},
     "output_type": "display_data"
    },
    {
     "data": {
      "text/html": [
       "<pre style=\"white-space:pre;overflow-x:auto;line-height:normal;font-family:Menlo,'DejaVu Sans Mono',consolas,'Courier New',monospace\"><span style=\"color: #7fbfbf; text-decoration-color: #7fbfbf\">[01/31/25 14:13:06] </span><span style=\"color: #d7af00; text-decoration-color: #d7af00; font-weight: bold\">WARNING </span> Popping out <span style=\"color: #008700; text-decoration-color: #008700\">'ProcessingJobName'</span> from the pipeline definition by       <a href=\"file://C:\\Users\\tochi\\anaconda3\\envs\\sagemaker-dev\\lib\\site-packages\\sagemaker\\workflow\\utilities.py\" target=\"_blank\"><span style=\"color: #7f7f7f; text-decoration-color: #7f7f7f\">utilities.py</span></a><span style=\"color: #7f7f7f; text-decoration-color: #7f7f7f\">:</span><a href=\"file://C:\\Users\\tochi\\anaconda3\\envs\\sagemaker-dev\\lib\\site-packages\\sagemaker\\workflow\\utilities.py#465\" target=\"_blank\"><span style=\"color: #7f7f7f; text-decoration-color: #7f7f7f\">465</span></a>\n",
       "<span style=\"color: #7fbfbf; text-decoration-color: #7fbfbf\">                    </span>         default since it will be overridden at pipeline execution time.       <span style=\"color: #7f7f7f; text-decoration-color: #7f7f7f\">                </span>\n",
       "<span style=\"color: #7fbfbf; text-decoration-color: #7fbfbf\">                    </span>         Please utilize the PipelineDefinitionConfig to persist this field in  <span style=\"color: #7f7f7f; text-decoration-color: #7f7f7f\">                </span>\n",
       "<span style=\"color: #7fbfbf; text-decoration-color: #7fbfbf\">                    </span>         the pipeline definition if desired.                                   <span style=\"color: #7f7f7f; text-decoration-color: #7f7f7f\">                </span>\n",
       "</pre>\n"
      ],
      "text/plain": [
       "\u001b[2;36m[01/31/25 14:13:06]\u001b[0m\u001b[2;36m \u001b[0m\u001b[1;38;2;215;175;0mWARNING \u001b[0m Popping out \u001b[38;2;0;135;0m'ProcessingJobName'\u001b[0m from the pipeline definition by       \u001b]8;id=744387;file://C:\\Users\\tochi\\anaconda3\\envs\\sagemaker-dev\\lib\\site-packages\\sagemaker\\workflow\\utilities.py\u001b\\\u001b[2mutilities.py\u001b[0m\u001b]8;;\u001b\\\u001b[2m:\u001b[0m\u001b]8;id=492924;file://C:\\Users\\tochi\\anaconda3\\envs\\sagemaker-dev\\lib\\site-packages\\sagemaker\\workflow\\utilities.py#465\u001b\\\u001b[2m465\u001b[0m\u001b]8;;\u001b\\\n",
       "\u001b[2;36m                    \u001b[0m         default since it will be overridden at pipeline execution time.       \u001b[2m                \u001b[0m\n",
       "\u001b[2;36m                    \u001b[0m         Please utilize the PipelineDefinitionConfig to persist this field in  \u001b[2m                \u001b[0m\n",
       "\u001b[2;36m                    \u001b[0m         the pipeline definition if desired.                                   \u001b[2m                \u001b[0m\n"
      ]
     },
     "metadata": {},
     "output_type": "display_data"
    },
    {
     "data": {
      "text/html": [
       "<pre style=\"white-space:pre;overflow-x:auto;line-height:normal;font-family:Menlo,'DejaVu Sans Mono',consolas,'Courier New',monospace\"><span style=\"color: #7fbfbf; text-decoration-color: #7fbfbf\">[01/31/25 14:13:10] </span><span style=\"color: #d7af00; text-decoration-color: #d7af00; font-weight: bold\">WARNING </span> Popping out <span style=\"color: #008700; text-decoration-color: #008700\">'ProcessingJobName'</span> from the pipeline definition by       <a href=\"file://C:\\Users\\tochi\\anaconda3\\envs\\sagemaker-dev\\lib\\site-packages\\sagemaker\\workflow\\utilities.py\" target=\"_blank\"><span style=\"color: #7f7f7f; text-decoration-color: #7f7f7f\">utilities.py</span></a><span style=\"color: #7f7f7f; text-decoration-color: #7f7f7f\">:</span><a href=\"file://C:\\Users\\tochi\\anaconda3\\envs\\sagemaker-dev\\lib\\site-packages\\sagemaker\\workflow\\utilities.py#465\" target=\"_blank\"><span style=\"color: #7f7f7f; text-decoration-color: #7f7f7f\">465</span></a>\n",
       "<span style=\"color: #7fbfbf; text-decoration-color: #7fbfbf\">                    </span>         default since it will be overridden at pipeline execution time.       <span style=\"color: #7f7f7f; text-decoration-color: #7f7f7f\">                </span>\n",
       "<span style=\"color: #7fbfbf; text-decoration-color: #7fbfbf\">                    </span>         Please utilize the PipelineDefinitionConfig to persist this field in  <span style=\"color: #7f7f7f; text-decoration-color: #7f7f7f\">                </span>\n",
       "<span style=\"color: #7fbfbf; text-decoration-color: #7fbfbf\">                    </span>         the pipeline definition if desired.                                   <span style=\"color: #7f7f7f; text-decoration-color: #7f7f7f\">                </span>\n",
       "</pre>\n"
      ],
      "text/plain": [
       "\u001b[2;36m[01/31/25 14:13:10]\u001b[0m\u001b[2;36m \u001b[0m\u001b[1;38;2;215;175;0mWARNING \u001b[0m Popping out \u001b[38;2;0;135;0m'ProcessingJobName'\u001b[0m from the pipeline definition by       \u001b]8;id=699803;file://C:\\Users\\tochi\\anaconda3\\envs\\sagemaker-dev\\lib\\site-packages\\sagemaker\\workflow\\utilities.py\u001b\\\u001b[2mutilities.py\u001b[0m\u001b]8;;\u001b\\\u001b[2m:\u001b[0m\u001b]8;id=433559;file://C:\\Users\\tochi\\anaconda3\\envs\\sagemaker-dev\\lib\\site-packages\\sagemaker\\workflow\\utilities.py#465\u001b\\\u001b[2m465\u001b[0m\u001b]8;;\u001b\\\n",
       "\u001b[2;36m                    \u001b[0m         default since it will be overridden at pipeline execution time.       \u001b[2m                \u001b[0m\n",
       "\u001b[2;36m                    \u001b[0m         Please utilize the PipelineDefinitionConfig to persist this field in  \u001b[2m                \u001b[0m\n",
       "\u001b[2;36m                    \u001b[0m         the pipeline definition if desired.                                   \u001b[2m                \u001b[0m\n"
      ]
     },
     "metadata": {},
     "output_type": "display_data"
    },
    {
     "data": {
      "text/html": [
       "<pre style=\"white-space:pre;overflow-x:auto;line-height:normal;font-family:Menlo,'DejaVu Sans Mono',consolas,'Courier New',monospace\"><span style=\"color: #7fbfbf; text-decoration-color: #7fbfbf\">                    </span><span style=\"color: #d7af00; text-decoration-color: #d7af00; font-weight: bold\">WARNING </span> Popping out <span style=\"color: #008700; text-decoration-color: #008700\">'ProcessingJobName'</span> from the pipeline definition by       <a href=\"file://C:\\Users\\tochi\\anaconda3\\envs\\sagemaker-dev\\lib\\site-packages\\sagemaker\\workflow\\utilities.py\" target=\"_blank\"><span style=\"color: #7f7f7f; text-decoration-color: #7f7f7f\">utilities.py</span></a><span style=\"color: #7f7f7f; text-decoration-color: #7f7f7f\">:</span><a href=\"file://C:\\Users\\tochi\\anaconda3\\envs\\sagemaker-dev\\lib\\site-packages\\sagemaker\\workflow\\utilities.py#465\" target=\"_blank\"><span style=\"color: #7f7f7f; text-decoration-color: #7f7f7f\">465</span></a>\n",
       "<span style=\"color: #7fbfbf; text-decoration-color: #7fbfbf\">                    </span>         default since it will be overridden at pipeline execution time.       <span style=\"color: #7f7f7f; text-decoration-color: #7f7f7f\">                </span>\n",
       "<span style=\"color: #7fbfbf; text-decoration-color: #7fbfbf\">                    </span>         Please utilize the PipelineDefinitionConfig to persist this field in  <span style=\"color: #7f7f7f; text-decoration-color: #7f7f7f\">                </span>\n",
       "<span style=\"color: #7fbfbf; text-decoration-color: #7fbfbf\">                    </span>         the pipeline definition if desired.                                   <span style=\"color: #7f7f7f; text-decoration-color: #7f7f7f\">                </span>\n",
       "</pre>\n"
      ],
      "text/plain": [
       "\u001b[2;36m                   \u001b[0m\u001b[2;36m \u001b[0m\u001b[1;38;2;215;175;0mWARNING \u001b[0m Popping out \u001b[38;2;0;135;0m'ProcessingJobName'\u001b[0m from the pipeline definition by       \u001b]8;id=369594;file://C:\\Users\\tochi\\anaconda3\\envs\\sagemaker-dev\\lib\\site-packages\\sagemaker\\workflow\\utilities.py\u001b\\\u001b[2mutilities.py\u001b[0m\u001b]8;;\u001b\\\u001b[2m:\u001b[0m\u001b]8;id=845617;file://C:\\Users\\tochi\\anaconda3\\envs\\sagemaker-dev\\lib\\site-packages\\sagemaker\\workflow\\utilities.py#465\u001b\\\u001b[2m465\u001b[0m\u001b]8;;\u001b\\\n",
       "\u001b[2;36m                    \u001b[0m         default since it will be overridden at pipeline execution time.       \u001b[2m                \u001b[0m\n",
       "\u001b[2;36m                    \u001b[0m         Please utilize the PipelineDefinitionConfig to persist this field in  \u001b[2m                \u001b[0m\n",
       "\u001b[2;36m                    \u001b[0m         the pipeline definition if desired.                                   \u001b[2m                \u001b[0m\n"
      ]
     },
     "metadata": {},
     "output_type": "display_data"
    }
   ],
   "source": [
    "# Define the pipeline\n",
    "pipeline = Pipeline(\n",
    "    name=\"StockInferencePipeline\",\n",
    "    parameters=[years_to_filter],\n",
    "    steps=[ingestion_step, processing_step,lambda_step],\n",
    "    sagemaker_session=sagemaker_session,\n",
    ")\n",
    "\n",
    "# Execute the pipeline\n",
    "pipeline.upsert(role_arn=role)\n",
    "execution = pipeline.start()\n",
    "execution.wait()"
   ]
  },
  {
   "cell_type": "markdown",
   "id": "38a84ecd-7b1c-4cc7-9ec0-d51ee31549cb",
   "metadata": {},
   "source": [
    "## Schedule Inference Pipeline"
   ]
  },
  {
   "cell_type": "code",
   "execution_count": 16,
   "id": "e45e4b52-6d48-4d1c-a45c-5969242f0374",
   "metadata": {},
   "outputs": [
    {
     "name": "stdout",
     "output_type": "stream",
     "text": [
      "{'FailedEntryCount': 0, 'FailedEntries': [], 'ResponseMetadata': {'RequestId': '1e3afdb0-788c-4989-bd4e-652bc78812af', 'HTTPStatusCode': 200, 'HTTPHeaders': {'x-amzn-requestid': '1e3afdb0-788c-4989-bd4e-652bc78812af', 'content-type': 'application/x-amz-json-1.1', 'content-length': '41', 'date': 'Fri, 31 Jan 2025 20:17:15 GMT'}, 'RetryAttempts': 0}}\n"
     ]
    }
   ],
   "source": [
    "import boto3\n",
    "import pytz\n",
    "from datetime import datetime, timedelta\n",
    "\n",
    "# Set US Central Time (UTC-6)\n",
    "central_tz = pytz.timezone('US/Central')\n",
    "\n",
    "# Set the schedule time to 9 PM US Central Time on the next weekday (Monday to Friday)\n",
    "now = datetime.now(central_tz)\n",
    "next_weekday = now + timedelta(days=(7 - now.weekday()) % 7 if now.weekday() >= 5 else 1)\n",
    "naive_next_weekday = next_weekday.replace(hour=21, minute=0, second=0, microsecond=0).replace(tzinfo=None)\n",
    "schedule_time = central_tz.localize(naive_next_weekday)\n",
    "\n",
    "# Convert to UTC\n",
    "schedule_time_utc = schedule_time.astimezone(pytz.utc)\n",
    "\n",
    "# Define the cron expression for every Monday to Friday at 9 PM US Central Time\n",
    "cron_expression = 'cron(0 3 ? * MON-FRI *)'  # 9 PM Central Time is 3 AM UTC\n",
    "\n",
    "# Create EventBridge client\n",
    "events_client = boto3.client('events')\n",
    "\n",
    "# Create the EventBridge rule\n",
    "rule_response = events_client.put_rule(\n",
    "    Name='SageMakerInferencePipelineSchedule',\n",
    "    ScheduleExpression=cron_expression,\n",
    "    State='ENABLED',\n",
    "    Description='Trigger SageMaker pipeline every Monday to Friday at 9 PM US Central Time'\n",
    ")\n",
    "\n",
    "# Get the rule ARN\n",
    "rule_arn = rule_response['RuleArn']\n",
    "\n",
    "# Define the target to invoke the Lambda function\n",
    "lambda_function_arn = f'arn:aws:lambda:us-east-2:{account}:function:sagemaker-lambda-step-endpoint-deploy'\n",
    "\n",
    "# Add the target to the rule\n",
    "put_targets_response = events_client.put_targets(\n",
    "    Rule='SageMakerInferencePipelineSchedule',\n",
    "    Targets=[\n",
    "        {\n",
    "            'Id': 'SageMakerInferencePipelineTarget',\n",
    "            'Arn': lambda_function_arn\n",
    "        }\n",
    "    ]\n",
    ")\n",
    "\n",
    "print(put_targets_response)"
   ]
  },
  {
   "cell_type": "code",
   "execution_count": null,
   "id": "d032087a-ba26-4732-93d3-c8c1f6facb7d",
   "metadata": {},
   "outputs": [],
   "source": []
  }
 ],
 "metadata": {
  "kernelspec": {
   "display_name": "sagemaker-dev",
   "language": "python",
   "name": "sagemaker-dev"
  },
  "language_info": {
   "codemirror_mode": {
    "name": "ipython",
    "version": 3
   },
   "file_extension": ".py",
   "mimetype": "text/x-python",
   "name": "python",
   "nbconvert_exporter": "python",
   "pygments_lexer": "ipython3",
   "version": "3.10.14"
  }
 },
 "nbformat": 4,
 "nbformat_minor": 5
}
