{
 "cells": [
  {
   "cell_type": "code",
   "execution_count": 1,
   "id": "9110680a-543f-4ac2-afe7-01ee9991fb80",
   "metadata": {},
   "outputs": [
    {
     "name": "stderr",
     "output_type": "stream",
     "text": [
      "C:\\Users\\tochi\\anaconda3\\envs\\sagemaker-dev\\lib\\site-packages\\pydantic\\_internal\\_fields.py:172: UserWarning: Field name \"json\" in \"MonitoringDatasetFormat\" shadows an attribute in parent \"Base\"\n",
      "  warnings.warn(\n"
     ]
    },
    {
     "data": {
      "text/html": [
       "<pre style=\"white-space:pre;overflow-x:auto;line-height:normal;font-family:Menlo,'DejaVu Sans Mono',consolas,'Courier New',monospace\"><span style=\"color: #7fbfbf; text-decoration-color: #7fbfbf\">[02/09/25 10:18:49] </span><span style=\"color: #0069ff; text-decoration-color: #0069ff; font-weight: bold\">INFO    </span> Found credentials in shared credentials file: ~<span style=\"color: #e100e1; text-decoration-color: #e100e1\">/.aws/credentials</span>   <a href=\"file://C:\\Users\\tochi\\anaconda3\\envs\\sagemaker-dev\\lib\\site-packages\\botocore\\credentials.py\" target=\"_blank\"><span style=\"color: #7f7f7f; text-decoration-color: #7f7f7f\">credentials.py</span></a><span style=\"color: #7f7f7f; text-decoration-color: #7f7f7f\">:</span><a href=\"file://C:\\Users\\tochi\\anaconda3\\envs\\sagemaker-dev\\lib\\site-packages\\botocore\\credentials.py#1278\" target=\"_blank\"><span style=\"color: #7f7f7f; text-decoration-color: #7f7f7f\">1278</span></a>\n",
       "</pre>\n"
      ],
      "text/plain": [
       "\u001b[2;36m[02/09/25 10:18:49]\u001b[0m\u001b[2;36m \u001b[0m\u001b[1;38;2;0;105;255mINFO    \u001b[0m Found credentials in shared credentials file: ~\u001b[38;2;225;0;225m/.aws/\u001b[0m\u001b[38;2;225;0;225mcredentials\u001b[0m   \u001b]8;id=566572;file://C:\\Users\\tochi\\anaconda3\\envs\\sagemaker-dev\\lib\\site-packages\\botocore\\credentials.py\u001b\\\u001b[2mcredentials.py\u001b[0m\u001b]8;;\u001b\\\u001b[2m:\u001b[0m\u001b]8;id=85839;file://C:\\Users\\tochi\\anaconda3\\envs\\sagemaker-dev\\lib\\site-packages\\botocore\\credentials.py#1278\u001b\\\u001b[2m1278\u001b[0m\u001b]8;;\u001b\\\n"
      ]
     },
     "metadata": {},
     "output_type": "display_data"
    },
    {
     "name": "stdout",
     "output_type": "stream",
     "text": [
      "sagemaker.config INFO - Not applying SDK defaults from location: C:\\ProgramData\\sagemaker\\sagemaker\\config.yaml\n",
      "sagemaker.config INFO - Not applying SDK defaults from location: C:\\Users\\tochi\\AppData\\Local\\sagemaker\\sagemaker\\config.yaml\n"
     ]
    },
    {
     "data": {
      "text/html": [
       "<pre style=\"white-space:pre;overflow-x:auto;line-height:normal;font-family:Menlo,'DejaVu Sans Mono',consolas,'Courier New',monospace\"><span style=\"color: #7fbfbf; text-decoration-color: #7fbfbf\">[02/09/25 10:18:50] </span><span style=\"color: #0069ff; text-decoration-color: #0069ff; font-weight: bold\">INFO    </span> Found credentials in shared credentials file: ~<span style=\"color: #e100e1; text-decoration-color: #e100e1\">/.aws/credentials</span>   <a href=\"file://C:\\Users\\tochi\\anaconda3\\envs\\sagemaker-dev\\lib\\site-packages\\botocore\\credentials.py\" target=\"_blank\"><span style=\"color: #7f7f7f; text-decoration-color: #7f7f7f\">credentials.py</span></a><span style=\"color: #7f7f7f; text-decoration-color: #7f7f7f\">:</span><a href=\"file://C:\\Users\\tochi\\anaconda3\\envs\\sagemaker-dev\\lib\\site-packages\\botocore\\credentials.py#1278\" target=\"_blank\"><span style=\"color: #7f7f7f; text-decoration-color: #7f7f7f\">1278</span></a>\n",
       "</pre>\n"
      ],
      "text/plain": [
       "\u001b[2;36m[02/09/25 10:18:50]\u001b[0m\u001b[2;36m \u001b[0m\u001b[1;38;2;0;105;255mINFO    \u001b[0m Found credentials in shared credentials file: ~\u001b[38;2;225;0;225m/.aws/\u001b[0m\u001b[38;2;225;0;225mcredentials\u001b[0m   \u001b]8;id=584453;file://C:\\Users\\tochi\\anaconda3\\envs\\sagemaker-dev\\lib\\site-packages\\botocore\\credentials.py\u001b\\\u001b[2mcredentials.py\u001b[0m\u001b]8;;\u001b\\\u001b[2m:\u001b[0m\u001b]8;id=54922;file://C:\\Users\\tochi\\anaconda3\\envs\\sagemaker-dev\\lib\\site-packages\\botocore\\credentials.py#1278\u001b\\\u001b[2m1278\u001b[0m\u001b]8;;\u001b\\\n"
      ]
     },
     "metadata": {},
     "output_type": "display_data"
    }
   ],
   "source": [
    "import time\n",
    "import boto3\n",
    "from sagemaker import session\n",
    "\n",
    "sm_client = boto3.client(\"sagemaker\")\n",
    "account = boto3.client(\"sts\").get_caller_identity().get(\"Account\")\n",
    "role = f\"arn:aws:iam::{account}:role/service-role/AmazonSageMakerServiceCatalogProductsUseRole\""
   ]
  },
  {
   "cell_type": "markdown",
   "id": "43b1f10e-5349-422b-b7d6-40d146107923",
   "metadata": {},
   "source": [
    "### Enable Data Capture for Your Endpoint"
   ]
  },
  {
   "cell_type": "code",
   "execution_count": 2,
   "id": "e9d28835-f47c-4985-9670-1a00758f8895",
   "metadata": {},
   "outputs": [
    {
     "name": "stdout",
     "output_type": "stream",
     "text": [
      "{'EndpointConfigArn': 'arn:aws:sagemaker:us-east-2:930627915954:endpoint-config/stock-prediction-endpoint-config-02-09-10-24-12', 'ResponseMetadata': {'RequestId': '0b6ca6a9-bed0-4ed8-abc0-e607fe3625f6', 'HTTPStatusCode': 200, 'HTTPHeaders': {'x-amzn-requestid': '0b6ca6a9-bed0-4ed8-abc0-e607fe3625f6', 'content-type': 'application/x-amz-json-1.1', 'content-length': '128', 'date': 'Sun, 09 Feb 2025 16:24:13 GMT'}, 'RetryAttempts': 0}}\n",
      "Data capture enabled for the endpoint.\n"
     ]
    }
   ],
   "source": [
    "# Define endpoint and S3 bucket\n",
    "endpoint_name = \"stock-market-prediction-endpoint\"\n",
    "current_time = time.strftime(\"%m-%d-%H-%M-%S\", time.localtime())\n",
    "endpoint_config_name = \"stock-prediction-endpoint-config-\" + current_time\n",
    "prefix = \"data-capture\"\n",
    "\n",
    "# Enable data capture configuration\n",
    "data_capture_config = {\n",
    "    \"EnableCapture\": True,\n",
    "    \"InitialSamplingPercentage\": 100,\n",
    "    \"DestinationS3Uri\": \"s3://aws-portfolio-projects/snp500-data/monitoring_artifacts/\",\n",
    "    \"CaptureOptions\": [{\"CaptureMode\": \"Input\"}, {\"CaptureMode\": \"Output\"}],\n",
    "    \"CaptureContentTypeHeader\": {\n",
    "        \"CsvContentTypes\": [\"text/csv\"],\n",
    "        \"JsonContentTypes\": [\"application/json\"],\n",
    "    },\n",
    "}\n",
    "\n",
    "# Create a new endpoint configuration with data capture\n",
    "response = sm_client.create_endpoint_config(\n",
    "    EndpointConfigName=endpoint_config_name,\n",
    "    ProductionVariants=[\n",
    "        {\n",
    "            \"VariantName\": \"AllTraffic\",\n",
    "            \"ModelName\": \"pipelines-okya27xmgwox-StockMarketPredictio-7qW5sj5SWn\",\n",
    "            \"InitialInstanceCount\": 1,\n",
    "            \"InstanceType\": \"ml.m5.large\",\n",
    "        }\n",
    "    ],\n",
    "    DataCaptureConfig=data_capture_config,\n",
    ")\n",
    "print(response)\n",
    "\n",
    "# Update endpoint to enable data capture\n",
    "response = sm_client.update_endpoint(\n",
    "    EndpointName=endpoint_name,\n",
    "    EndpointConfigName=endpoint_config_name,\n",
    ")\n",
    "\n",
    "print(\"Data capture enabled for the endpoint.\")"
   ]
  },
  {
   "cell_type": "markdown",
   "id": "f66c9342-e62f-4bc2-b7aa-18f4caf3809e",
   "metadata": {},
   "source": [
    "### Baseline Data and Constraints"
   ]
  },
  {
   "cell_type": "code",
   "execution_count": 5,
   "id": "46531693-d006-4b4a-b468-291dd2d3eb55",
   "metadata": {},
   "outputs": [],
   "source": [
    "from sagemaker.model_monitor import DefaultModelMonitor\n",
    "\n",
    "monitor = DefaultModelMonitor(\n",
    "    role=role,\n",
    "    instance_count=1,\n",
    "    instance_type=\"ml.m5.large\",\n",
    "    volume_size_in_gb=20,\n",
    "    max_runtime_in_seconds=3600,\n",
    "    sagemaker_session=session.Session(),\n",
    ")\n",
    "\n",
    "# Generate a unique job name using the current timestamp\n",
    "current_time = time.strftime(\"%Y-%m-%d-%H-%M-%S\", time.localtime())\n",
    "baseline_job_name = f\"baseline-job-stock-model-{current_time}\"\n",
    "\n",
    "monitor.suggest_baseline(\n",
    "    baseline_dataset=\"s3://aws-portfolio-projects/snp500-data/train_data/features.csv\",\n",
    "    dataset_format={\"Csv\": {\"Header\": True}},\n",
    "    output_s3_uri=\"s3://aws-portfolio-projects/snp500-data/monitoring_artifacts/\",\n",
    "    job_name=baseline_job_name,\n",
    ")\n",
    "\n",
    "print(f\"Baseline job started: {baseline_job_name}\")"
   ]
  },
  {
   "cell_type": "markdown",
   "id": "5f5a9aac-ca06-4618-8e5f-192be2e74453",
   "metadata": {},
   "source": [
    "### Set up monitoring schedule"
   ]
  },
  {
   "cell_type": "code",
   "execution_count": 7,
   "id": "b3688c8a-e0d6-4caa-9647-d050414bb68b",
   "metadata": {},
   "outputs": [
    {
     "data": {
      "text/html": [
       "<pre style=\"white-space:pre;overflow-x:auto;line-height:normal;font-family:Menlo,'DejaVu Sans Mono',consolas,'Courier New',monospace\"><span style=\"color: #7fbfbf; text-decoration-color: #7fbfbf\">[02/09/25 12:17:48] </span><span style=\"color: #0069ff; text-decoration-color: #0069ff; font-weight: bold\">INFO    </span> Ignoring unnecessary instance type: <span style=\"color: #e100e1; text-decoration-color: #e100e1; font-style: italic\">None</span>.                            <a href=\"file://C:\\Users\\tochi\\anaconda3\\envs\\sagemaker-dev\\lib\\site-packages\\sagemaker\\image_uris.py\" target=\"_blank\"><span style=\"color: #7f7f7f; text-decoration-color: #7f7f7f\">image_uris.py</span></a><span style=\"color: #7f7f7f; text-decoration-color: #7f7f7f\">:</span><a href=\"file://C:\\Users\\tochi\\anaconda3\\envs\\sagemaker-dev\\lib\\site-packages\\sagemaker\\image_uris.py#528\" target=\"_blank\"><span style=\"color: #7f7f7f; text-decoration-color: #7f7f7f\">528</span></a>\n",
       "</pre>\n"
      ],
      "text/plain": [
       "\u001b[2;36m[02/09/25 12:17:48]\u001b[0m\u001b[2;36m \u001b[0m\u001b[1;38;2;0;105;255mINFO    \u001b[0m Ignoring unnecessary instance type: \u001b[3;38;2;225;0;225mNone\u001b[0m.                            \u001b]8;id=761104;file://C:\\Users\\tochi\\anaconda3\\envs\\sagemaker-dev\\lib\\site-packages\\sagemaker\\image_uris.py\u001b\\\u001b[2mimage_uris.py\u001b[0m\u001b]8;;\u001b\\\u001b[2m:\u001b[0m\u001b]8;id=847714;file://C:\\Users\\tochi\\anaconda3\\envs\\sagemaker-dev\\lib\\site-packages\\sagemaker\\image_uris.py#528\u001b\\\u001b[2m528\u001b[0m\u001b]8;;\u001b\\\n"
      ]
     },
     "metadata": {},
     "output_type": "display_data"
    },
    {
     "data": {
      "text/html": [
       "<pre style=\"white-space:pre;overflow-x:auto;line-height:normal;font-family:Menlo,'DejaVu Sans Mono',consolas,'Courier New',monospace\"><span style=\"color: #7fbfbf; text-decoration-color: #7fbfbf\">[02/09/25 12:17:50] </span><span style=\"color: #0069ff; text-decoration-color: #0069ff; font-weight: bold\">INFO    </span> Creating Monitoring Schedule with name:                       <a href=\"file://C:\\Users\\tochi\\anaconda3\\envs\\sagemaker-dev\\lib\\site-packages\\sagemaker\\model_monitor\\model_monitoring.py\" target=\"_blank\"><span style=\"color: #7f7f7f; text-decoration-color: #7f7f7f\">model_monitoring.py</span></a><span style=\"color: #7f7f7f; text-decoration-color: #7f7f7f\">:</span><a href=\"file://C:\\Users\\tochi\\anaconda3\\envs\\sagemaker-dev\\lib\\site-packages\\sagemaker\\model_monitor\\model_monitoring.py#1560\" target=\"_blank\"><span style=\"color: #7f7f7f; text-decoration-color: #7f7f7f\">1560</span></a>\n",
       "<span style=\"color: #7fbfbf; text-decoration-color: #7fbfbf\">                    </span>         stock-model-monitoring-schedule                               <span style=\"color: #7f7f7f; text-decoration-color: #7f7f7f\">                        </span>\n",
       "</pre>\n"
      ],
      "text/plain": [
       "\u001b[2;36m[02/09/25 12:17:50]\u001b[0m\u001b[2;36m \u001b[0m\u001b[1;38;2;0;105;255mINFO    \u001b[0m Creating Monitoring Schedule with name:                       \u001b]8;id=893866;file://C:\\Users\\tochi\\anaconda3\\envs\\sagemaker-dev\\lib\\site-packages\\sagemaker\\model_monitor\\model_monitoring.py\u001b\\\u001b[2mmodel_monitoring.py\u001b[0m\u001b]8;;\u001b\\\u001b[2m:\u001b[0m\u001b]8;id=30616;file://C:\\Users\\tochi\\anaconda3\\envs\\sagemaker-dev\\lib\\site-packages\\sagemaker\\model_monitor\\model_monitoring.py#1560\u001b\\\u001b[2m1560\u001b[0m\u001b]8;;\u001b\\\n",
       "\u001b[2;36m                    \u001b[0m         stock-model-monitoring-schedule                               \u001b[2m                        \u001b[0m\n"
      ]
     },
     "metadata": {},
     "output_type": "display_data"
    },
    {
     "name": "stdout",
     "output_type": "stream",
     "text": [
      "Monitoring schedule created: stock-model-monitoring-schedule\n"
     ]
    }
   ],
   "source": [
    "from sagemaker.model_monitor import DefaultModelMonitor, CronExpressionGenerator\n",
    "\n",
    "# Initialize the model monitor\n",
    "monitor = DefaultModelMonitor(\n",
    "    role=role,\n",
    "    instance_count=1,\n",
    "    instance_type=\"ml.m5.large\",\n",
    "    volume_size_in_gb=20,\n",
    "    max_runtime_in_seconds=3600,\n",
    "    sagemaker_session=session.Session(),\n",
    ")\n",
    "\n",
    "# Define the monitoring schedule name\n",
    "monitor_schedule_name = \"stock-model-monitoring-schedule\"\n",
    "\n",
    "# Create the monitoring schedule to run hourly\n",
    "monitor.create_monitoring_schedule(\n",
    "    endpoint_input=endpoint_name,\n",
    "    output_s3_uri=\"s3://aws-portfolio-projects/snp500-data/monitoring_artifacts/\",\n",
    "    statistics=\"s3://aws-portfolio-projects/snp500-data/monitoring_artifacts/statistics.json\",\n",
    "    constraints=\"s3://aws-portfolio-projects/snp500-data/monitoring_artifacts/constraints.json\",\n",
    "    schedule_cron_expression=CronExpressionGenerator.hourly(),\n",
    "    monitor_schedule_name=monitor_schedule_name,\n",
    ")\n",
    "\n",
    "print(f\"Monitoring schedule created: {monitor_schedule_name}\")"
   ]
  },
  {
   "cell_type": "markdown",
   "id": "7641715a-0f37-4b5e-b27b-4b50dde5f851",
   "metadata": {},
   "source": [
    "### Set up cloudwatch alarm"
   ]
  },
  {
   "cell_type": "code",
   "execution_count": 9,
   "id": "b621ac0a-9e44-484a-94f0-a27d5acaec62",
   "metadata": {},
   "outputs": [
    {
     "name": "stdout",
     "output_type": "stream",
     "text": [
      "CloudWatch alarm created: {'ResponseMetadata': {'RequestId': '452303a9-d5a6-4125-9f71-c9964f760350', 'HTTPStatusCode': 200, 'HTTPHeaders': {'x-amzn-requestid': '452303a9-d5a6-4125-9f71-c9964f760350', 'content-type': 'text/xml', 'content-length': '214', 'date': 'Sun, 09 Feb 2025 22:25:40 GMT'}, 'RetryAttempts': 0}}\n"
     ]
    }
   ],
   "source": [
    "import boto3\n",
    "\n",
    "# Initialize boto3 client for CloudWatch\n",
    "cloudwatch_client = boto3.client(\"cloudwatch\")\n",
    "\n",
    "# Define SNS topic ARN for notifications\n",
    "sns_topic_arn = \"arn:aws:sns:us-east-2:930627915954:StockModelAlarmTopic\"\n",
    "\n",
    "# Create the CloudWatch alarm\n",
    "response = cloudwatch_client.put_metric_alarm(\n",
    "    AlarmName=\"StockModelConstraintViolationsAlarm\",\n",
    "    AlarmDescription=\"Triggers if constraint violations are detected for the stock prediction model.\",\n",
    "    ActionsEnabled=True,\n",
    "    MetricName=\"ConstraintViolations\",\n",
    "    Namespace=\"AWS/SageMaker\",\n",
    "    Statistic=\"Sum\",\n",
    "    Dimensions=[\n",
    "        {\"Name\": \"MonitoringScheduleName\", \"Value\": \"stock-model-monitoring-schedule\"}\n",
    "    ],\n",
    "    Period=300,  # 5 minutes\n",
    "    EvaluationPeriods=1,\n",
    "    Threshold=0,\n",
    "    ComparisonOperator=\"GreaterThanThreshold\",\n",
    "    AlarmActions=[sns_topic_arn],  # Sends notifications to an SNS topic\n",
    "    OKActions=[sns_topic_arn],  # Optional: Send \"OK\" notifications\n",
    "    TreatMissingData=\"notBreaching\",  # Ignore missing data points\n",
    ")\n",
    "\n",
    "print(\"CloudWatch alarm created:\", response)"
   ]
  },
  {
   "cell_type": "code",
   "execution_count": 10,
   "id": "7c783190-8878-4557-b198-0f89f61fb7c9",
   "metadata": {},
   "outputs": [
    {
     "name": "stdout",
     "output_type": "stream",
     "text": [
      "Deleted monitoring schedule: stock-model-monitoring-schedule\n",
      "All associated monitoring schedules deleted.\n"
     ]
    }
   ],
   "source": [
    "import boto3\n",
    "\n",
    "# Initialize SageMaker client\n",
    "sagemaker_client = boto3.client(\"sagemaker\")\n",
    "\n",
    "# List all monitoring schedules\n",
    "response = sagemaker_client.list_monitoring_schedules()\n",
    "\n",
    "# Iterate through the monitoring schedules and delete those associated with the endpoint\n",
    "for schedule in response[\"MonitoringScheduleSummaries\"]:\n",
    "    schedule_name = schedule[\"MonitoringScheduleName\"]\n",
    "    schedule_details = sagemaker_client.describe_monitoring_schedule(\n",
    "        MonitoringScheduleName=schedule_name\n",
    "    )\n",
    "\n",
    "    if (\n",
    "        schedule_details[\"EndpointName\"] == \"stock-market-prediction-endpoint\"\n",
    "    ):  # Replace with your endpoint name\n",
    "        sagemaker_client.delete_monitoring_schedule(\n",
    "            MonitoringScheduleName=schedule_name\n",
    "        )\n",
    "        print(f\"Deleted monitoring schedule: {schedule_name}\")\n",
    "\n",
    "print(\"All associated monitoring schedules deleted.\")"
   ]
  },
  {
   "cell_type": "code",
   "execution_count": null,
   "id": "8d3b72e0-b3d7-49da-985f-c13d5d335015",
   "metadata": {},
   "outputs": [],
   "source": []
  }
 ],
 "metadata": {
  "kernelspec": {
   "display_name": "sagemaker-dev",
   "language": "python",
   "name": "sagemaker-dev"
  },
  "language_info": {
   "codemirror_mode": {
    "name": "ipython",
    "version": 3
   },
   "file_extension": ".py",
   "mimetype": "text/x-python",
   "name": "python",
   "nbconvert_exporter": "python",
   "pygments_lexer": "ipython3",
   "version": "3.10.14"
  }
 },
 "nbformat": 4,
 "nbformat_minor": 5
}
